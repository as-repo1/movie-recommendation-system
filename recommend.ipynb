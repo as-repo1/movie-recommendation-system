{
 "cells": [
  {
   "cell_type": "code",
   "execution_count": 21,
   "id": "79c6ff1d",
   "metadata": {},
   "outputs": [],
   "source": [
    "# basic imports\n",
    "\n",
    "import numpy as np\n",
    "import pandas as pd"
   ]
  },
  {
   "cell_type": "code",
   "execution_count": 22,
   "id": "fca8877f",
   "metadata": {},
   "outputs": [],
   "source": [
    "#importing the dataset\n",
    "\n",
    "mv = pd.read_csv(\"tmdb_5000_movies.csv\")\n",
    "cr = pd.read_csv(\"tmdb_5000_credits.csv\")"
   ]
  },
  {
   "cell_type": "code",
   "execution_count": 23,
   "id": "5ff93ce8",
   "metadata": {},
   "outputs": [],
   "source": [
    "# #checking the data\n",
    "\n",
    "# #mv.head(2)\n",
    "# cr.head(2)"
   ]
  },
  {
   "cell_type": "code",
   "execution_count": 24,
   "id": "de2e5349",
   "metadata": {},
   "outputs": [],
   "source": [
    "#merging the dataset into one data set using the \"title\"\n",
    "\n",
    "movies = mv.merge(cr,on=\"title\")"
   ]
  },
  {
   "cell_type": "code",
   "execution_count": 25,
   "id": "972c36b0",
   "metadata": {},
   "outputs": [],
   "source": [
    "# #checking the shape of the dataset\n",
    "\n",
    "# print(mv.shape)\n",
    "# print(cr.shape)\n",
    "# movies.shape"
   ]
  },
  {
   "cell_type": "code",
   "execution_count": 26,
   "id": "78127b20",
   "metadata": {},
   "outputs": [],
   "source": [
    "# #checking the merging\n",
    "\n",
    "# movies.head(2)"
   ]
  },
  {
   "cell_type": "markdown",
   "id": "bf872c64",
   "metadata": {},
   "source": [
    "# feature selection "
   ]
  },
  {
   "cell_type": "code",
   "execution_count": 27,
   "id": "497fb9b5",
   "metadata": {},
   "outputs": [],
   "source": [
    "# # to get the info about all the features\n",
    "\n",
    "# movies.info()"
   ]
  },
  {
   "cell_type": "markdown",
   "id": "5acb9b1a",
   "metadata": {},
   "source": [
    "## feature selection \n",
    "- genres\n",
    "- id (for fetching the poster show)\n",
    "- keywords\n",
    "- title (not original title, can be in regional language)\n",
    "- overview\n",
    "- cast\n",
    "- crew\n",
    "\n",
    "- for afterwards\n",
    "     - release date\n"
   ]
  },
  {
   "cell_type": "code",
   "execution_count": 28,
   "id": "6299be78",
   "metadata": {},
   "outputs": [],
   "source": [
    "#selecting which features we need! and store it into the same name, (can use diff.)\n",
    "\n",
    "movies = movies[[\"movie_id\",\"title\",\"overview\",\"genres\",\"keywords\",\"cast\",\"crew\"]]"
   ]
  },
  {
   "cell_type": "code",
   "execution_count": 29,
   "id": "e6e2d55e",
   "metadata": {},
   "outputs": [],
   "source": [
    "# #just checking \n",
    "\n",
    "# movies.head(2) "
   ]
  },
  {
   "cell_type": "code",
   "execution_count": 30,
   "id": "9218247c",
   "metadata": {},
   "outputs": [],
   "source": [
    "# #checking for the missing data\n",
    "\n",
    "# movies.isnull().sum()"
   ]
  },
  {
   "cell_type": "code",
   "execution_count": 31,
   "id": "c1c955c7",
   "metadata": {},
   "outputs": [],
   "source": [
    "#drop the missing data\n",
    "\n",
    "movies.dropna(inplace = True)"
   ]
  },
  {
   "cell_type": "code",
   "execution_count": 32,
   "id": "928fc8bc",
   "metadata": {},
   "outputs": [],
   "source": [
    "# movies.isnull().sum()"
   ]
  },
  {
   "cell_type": "code",
   "execution_count": 33,
   "id": "e3fc6307",
   "metadata": {},
   "outputs": [],
   "source": [
    "# #checking for any duplicate data\n",
    "\n",
    "# movies.duplicated().sum()"
   ]
  },
  {
   "cell_type": "code",
   "execution_count": 34,
   "id": "c595dfdb",
   "metadata": {},
   "outputs": [],
   "source": [
    "# #checking the format of the genres for the iloc[0]\n",
    "\n",
    "# movies.iloc[0].genres "
   ]
  },
  {
   "cell_type": "markdown",
   "id": "9e2ae354",
   "metadata": {},
   "source": [
    "- this is a list of dict\n",
    "    - convert this string of list into list\n",
    "        - using 'ast' in python"
   ]
  },
  {
   "cell_type": "code",
   "execution_count": 35,
   "id": "d29b9336",
   "metadata": {},
   "outputs": [],
   "source": [
    "import ast\n",
    "# ast.literal_eval\n",
    "\n",
    "def convert(obj):\n",
    "    l =[]\n",
    "    for i in ast.literal_eval(obj):\n",
    "        l.append(i[\"name\"])\n",
    "    return l"
   ]
  },
  {
   "cell_type": "code",
   "execution_count": 36,
   "id": "4f56a42a",
   "metadata": {},
   "outputs": [],
   "source": [
    "#storing that into the same col\n",
    "\n",
    "movies[\"genres\"] = movies[\"genres\"].apply(convert)\n",
    "movies[\"keywords\"] = movies[\"keywords\"].apply(convert)"
   ]
  },
  {
   "cell_type": "code",
   "execution_count": 37,
   "id": "c5e98e36",
   "metadata": {},
   "outputs": [],
   "source": [
    "# movies.head(2)"
   ]
  },
  {
   "cell_type": "code",
   "execution_count": 38,
   "id": "1a4360e2",
   "metadata": {},
   "outputs": [],
   "source": [
    "# def convert_3(obj):\n",
    "#     l = []\n",
    "#     cou = 0\n",
    "#     for i in ast.literal_eval(obj):\n",
    "#         if cou != 3:\n",
    "#             l.append(i[\"name\"])\n",
    "#             cou += 1\n",
    "#         else:\n",
    "#             break\n",
    "#     return l\n",
    "\n",
    "# movies[\"cast\"] = movies[\"cast\"].apply(convert_3)"
   ]
  },
  {
   "cell_type": "code",
   "execution_count": 39,
   "id": "af506fe7",
   "metadata": {},
   "outputs": [],
   "source": [
    "#convert into a string\n",
    "\n",
    "def convert_3(obj):\n",
    "    l = []\n",
    "    cou = 0\n",
    "    for i in ast.literal_eval(obj):\n",
    "        if cou != 3:\n",
    "            l.append(i[\"name\"])\n",
    "            cou += 1\n",
    "        else:\n",
    "            break\n",
    "    return str(l)"
   ]
  },
  {
   "cell_type": "code",
   "execution_count": 40,
   "id": "1f8e913c",
   "metadata": {},
   "outputs": [],
   "source": [
    "# # def get_first_3_cast_members(cast_str):\n",
    "# #     return cast_str.strip(\"[]\").replace(\"'\", \"\").split(\", \")[:3]\n",
    "\n",
    "# movies[\"cast\"] = movies[\"cast\"].apply(convert_3).apply(get_first_3_cast_members)"
   ]
  },
  {
   "cell_type": "code",
   "execution_count": 41,
   "id": "f6b72ac5",
   "metadata": {},
   "outputs": [],
   "source": [
    "# movies.head(2)"
   ]
  },
  {
   "cell_type": "code",
   "execution_count": 42,
   "id": "924df451",
   "metadata": {},
   "outputs": [],
   "source": [
    "def fetch_director(obj):\n",
    "    l =[]\n",
    "    for i in ast.literal_eval(obj):\n",
    "        if i[\"job\"] == \"Director\":\n",
    "            l.append(i[\"name\"])\n",
    "    return l"
   ]
  },
  {
   "cell_type": "code",
   "execution_count": 43,
   "id": "c71a18b2",
   "metadata": {},
   "outputs": [],
   "source": [
    "movies[\"crew\"] = movies[\"crew\"].apply(fetch_director)"
   ]
  },
  {
   "cell_type": "code",
   "execution_count": 44,
   "id": "f5a5e51e",
   "metadata": {},
   "outputs": [],
   "source": [
    "# movies.head()"
   ]
  },
  {
   "cell_type": "code",
   "execution_count": 45,
   "id": "2fca4430",
   "metadata": {},
   "outputs": [],
   "source": [
    "# movies[\"overview\"][3]"
   ]
  },
  {
   "cell_type": "markdown",
   "id": "3d27819b",
   "metadata": {},
   "source": [
    "### so the \"overview\" column is a string\n",
    "- have to convert it into a string\n",
    "- so that it can be concatinate with others"
   ]
  },
  {
   "cell_type": "code",
   "execution_count": 46,
   "id": "37fefa6a",
   "metadata": {},
   "outputs": [],
   "source": [
    "movies[\"overview\"] = movies[\"overview\"].apply(lambda x:x.split())"
   ]
  },
  {
   "cell_type": "markdown",
   "id": "1e28830f",
   "metadata": {},
   "source": [
    "## we have to transform the last columns \n",
    "- so that no spaces between them\n",
    "    - because there can be same name person \n",
    "    - or same surname person , can be confusing"
   ]
  },
  {
   "cell_type": "code",
   "execution_count": 47,
   "id": "580650cd",
   "metadata": {},
   "outputs": [],
   "source": [
    "movies[\"genres\"] = movies[\"genres\"].apply(lambda x:[i.replace(\" \",\"\") for i in x])\n",
    "movies[\"keywords\"] = movies[\"keywords\"].apply(lambda x:[i.replace(\" \",\"\") for i in x])\n",
    "\n",
    "movies[\"crew\"] = movies[\"crew\"].apply(lambda x:[i.replace(\" \",\"\") for i in x])"
   ]
  },
  {
   "cell_type": "code",
   "execution_count": 48,
   "id": "b6dbda63",
   "metadata": {},
   "outputs": [],
   "source": [
    "# movies.head()"
   ]
  },
  {
   "cell_type": "code",
   "execution_count": 49,
   "id": "e4e9e804",
   "metadata": {},
   "outputs": [],
   "source": [
    "# movies[\"cast\"][23]"
   ]
  },
  {
   "cell_type": "code",
   "execution_count": 50,
   "id": "49eaaa25",
   "metadata": {},
   "outputs": [],
   "source": [
    "# # movies[\"cast\"] = movies[\"cast\"].apply(lambda x:[i.replace(\" \",\"\") for i in x])\n",
    "\n",
    "# movies[\"cast\"] = movies[\"cast\"].apply(lambda x: [\"\".join(i.split()) for i in x])\n",
    "\n",
    "for index, row in movies.iterrows():\n",
    "    new_cast = []\n",
    "    for actor in row[\"cast\"]:\n",
    "        new_cast.append(actor.replace(\" \", \"\"))\n",
    "    movies.at[index, \"cast\"] = new_cast\n"
   ]
  },
  {
   "cell_type": "code",
   "execution_count": 51,
   "id": "94e48bee",
   "metadata": {},
   "outputs": [],
   "source": [
    "# movies.head(2)"
   ]
  },
  {
   "cell_type": "code",
   "execution_count": 52,
   "id": "8fa48733",
   "metadata": {},
   "outputs": [],
   "source": [
    "movies[\"tags\"] = movies[\"overview\"] +  movies[\"genres\"] + movies[\"keywords\"] +  movies[\"cast\"] +  movies[\"crew\"]"
   ]
  },
  {
   "cell_type": "code",
   "execution_count": 53,
   "id": "3d3ef86e",
   "metadata": {},
   "outputs": [],
   "source": [
    "# movies.head(2)"
   ]
  },
  {
   "cell_type": "code",
   "execution_count": 54,
   "id": "3d3a61d9",
   "metadata": {},
   "outputs": [],
   "source": [
    "movie = movies[[\"movie_id\",\"title\",\"tags\"]]"
   ]
  },
  {
   "cell_type": "code",
   "execution_count": 55,
   "id": "ecdc931f",
   "metadata": {},
   "outputs": [],
   "source": [
    "# movie.head()"
   ]
  },
  {
   "cell_type": "code",
   "execution_count": 56,
   "id": "86519f3a",
   "metadata": {},
   "outputs": [
    {
     "data": {
      "text/plain": [
       "0       In the 22nd century, a paraplegic Marine is di...\n",
       "1       Captain Barbossa, long believed to be dead, ha...\n",
       "2       A cryptic message from Bond’s past sends him o...\n",
       "3       Following the death of District Attorney Harve...\n",
       "4       John Carter is a war-weary, former military ca...\n",
       "                              ...                        \n",
       "4804    El Mariachi just wants to play his guitar and ...\n",
       "4805    A newlywed couple's honeymoon is upended by th...\n",
       "4806    \"Signed, Sealed, Delivered\" introduces a dedic...\n",
       "4807    When ambitious New York attorney Sam is sent t...\n",
       "4808    Ever since the second grade when he first saw ...\n",
       "Name: tags, Length: 4806, dtype: object"
      ]
     },
     "execution_count": 56,
     "metadata": {},
     "output_type": "execute_result"
    }
   ],
   "source": [
    "movie[\"tags\"].apply(lambda x:\" \".join(x))"
   ]
  },
  {
   "cell_type": "code",
   "execution_count": 57,
   "id": "0ee9e538",
   "metadata": {},
   "outputs": [
    {
     "name": "stderr",
     "output_type": "stream",
     "text": [
      "/tmp/ipykernel_3935146/750453074.py:1: SettingWithCopyWarning: \n",
      "A value is trying to be set on a copy of a slice from a DataFrame.\n",
      "Try using .loc[row_indexer,col_indexer] = value instead\n",
      "\n",
      "See the caveats in the documentation: https://pandas.pydata.org/pandas-docs/stable/user_guide/indexing.html#returning-a-view-versus-a-copy\n",
      "  movie[\"tags\"] = movie[\"tags\"].apply(lambda x:\" \".join(x)) #with warning\n"
     ]
    }
   ],
   "source": [
    "movie[\"tags\"] = movie[\"tags\"].apply(lambda x:\" \".join(x)) #with warning\n",
    "#movie.loc[:, \"tags\"] = movie[\"tags\"].apply(lambda x: \" \".join(x))\n"
   ]
  },
  {
   "cell_type": "code",
   "execution_count": 58,
   "id": "d6e4ab8a",
   "metadata": {},
   "outputs": [],
   "source": [
    "# movie.head()"
   ]
  },
  {
   "cell_type": "markdown",
   "id": "9ea74b1e",
   "metadata": {},
   "source": [
    "# THE FIRST PART IS READY NOW"
   ]
  },
  {
   "cell_type": "markdown",
   "id": "88da2447",
   "metadata": {},
   "source": [
    "## Text to Vectors\n",
    "[`link for further study`](https://www.deepset.ai/blog/what-is-text-vectorization-in-nlp)\n",
    "\n",
    "\n",
    "- ### Count-Based Text Vectorization\n",
    "\n",
    "    - In programming, a vector is a data structure that is like a list or an array. For input representation, it is a set of values, with the number of values representing the vector’s “dimensionality.” Vectors contain information about the qualities of an input object. They offer a format that computers can easily process.\n",
    "\n",
    "- #### Bag of Words\n",
    "\n",
    "    - A simple vectorization method for text is a [bag-of-words](https://en.wikipedia.org/wiki/Bag-of-words_model) (BoW) representation. A BoW vector has the length of the entire vocabulary — that is, the set of unique words in the corpus. The vector’s values represent the frequency with which each word appears in a given text passage.\n",
    "    \n",
    "- #### TF-IDF\n",
    "\n",
    "    - Weighted BoW text vectorization techniques like [TF-IDF](https://haystack.deepset.ai/components/retriever#tf-idf) (short for “term frequency-inverse document frequency), attempt to give higher relevance scores to words that occur in fewer documents within the corpus. To that end, TF-IDF measures the frequency of a word in a text against its overall frequency in the corpus.\n",
    "\n",
    "- #### BM25\n",
    "\n",
    "    - While more sophisticated than the simple BoW approach, [BM25](https://www.elastic.co/blog/practical-bm25-part-2-the-bm25-algorithm-and-its-variables) was introduced to address some of its shortcomings. It is an improvement over TF-IDF and takes into account the length of the document. It also dampens the effect of having many occurrences of a word in a document.\n",
    "\n",
    "    - BoW methods produce long vectors that contain many zeros, so they’re often called “sparse.” In addition to being language-independent, sparse vectors are quick to compute and compare. [Semantic search](https://www.deepset.ai/blog/understanding-semantic-search) systems use them for quick document retrieval."
   ]
  },
  {
   "cell_type": "code",
   "execution_count": 59,
   "id": "720b71f3",
   "metadata": {},
   "outputs": [],
   "source": [
    "# movie[\"tags\"][3] #for checking "
   ]
  },
  {
   "cell_type": "code",
   "execution_count": 60,
   "id": "051f495e",
   "metadata": {},
   "outputs": [],
   "source": [
    "from sklearn.feature_extraction.text import CountVectorizer\n",
    "cv = CountVectorizer(max_features=5000,stop_words=\"english\")"
   ]
  },
  {
   "cell_type": "code",
   "execution_count": 61,
   "id": "e1700523",
   "metadata": {},
   "outputs": [],
   "source": [
    "vectors = cv.fit_transform(movie[\"tags\"]).toarray()"
   ]
  },
  {
   "cell_type": "code",
   "execution_count": 62,
   "id": "115f8616",
   "metadata": {},
   "outputs": [],
   "source": [
    "# vectors.shape"
   ]
  },
  {
   "cell_type": "code",
   "execution_count": 63,
   "id": "45ad6d74",
   "metadata": {},
   "outputs": [],
   "source": [
    "# vectors"
   ]
  },
  {
   "cell_type": "code",
   "execution_count": 64,
   "id": "4523b655",
   "metadata": {},
   "outputs": [],
   "source": [
    "# cv.get_feature_names()"
   ]
  },
  {
   "cell_type": "code",
   "execution_count": 65,
   "id": "1852856f",
   "metadata": {},
   "outputs": [],
   "source": [
    "import nltk\n",
    "from nltk.stem.porter import PorterStemmer\n",
    "\n",
    "ps = PorterStemmer()"
   ]
  },
  {
   "cell_type": "code",
   "execution_count": 66,
   "id": "b4130253",
   "metadata": {},
   "outputs": [],
   "source": [
    "def stem(text):\n",
    "    y = []\n",
    "    for i in text.split():\n",
    "        y.append(ps.stem(i))\n",
    "    return \" \".join(y)"
   ]
  },
  {
   "cell_type": "code",
   "execution_count": 67,
   "id": "8e235201",
   "metadata": {},
   "outputs": [],
   "source": [
    "# ps.stem(\"Following the death of District Attorney Harvey Dent, Batman assumes responsibility for Dent's crimes to protect the late attorney's reputation and is subsequently hunted by the Gotham City Police Department. Eight years later, Batman encounters the mysterious Selina Kyle and the villainous Bane, a new terrorist leader who overwhelms Gotham's finest. The Dark Knight resurfaces to protect a city that has branded him an enemy. Action Crime Drama Thriller dccomics crimefighter terrorist secretidentity burglar hostagedrama timebomb gothamcity vigilante cover-up superhero villainess tragichero terrorism destruction catwoman catburglar imax flood criminalunderworld batman ChristianBale MichaelCaine GaryOldman ChristopherNolan\")"
   ]
  },
  {
   "cell_type": "code",
   "execution_count": 68,
   "id": "33cce6da",
   "metadata": {},
   "outputs": [
    {
     "name": "stderr",
     "output_type": "stream",
     "text": [
      "/tmp/ipykernel_3935146/1092719389.py:1: SettingWithCopyWarning: \n",
      "A value is trying to be set on a copy of a slice from a DataFrame.\n",
      "Try using .loc[row_indexer,col_indexer] = value instead\n",
      "\n",
      "See the caveats in the documentation: https://pandas.pydata.org/pandas-docs/stable/user_guide/indexing.html#returning-a-view-versus-a-copy\n",
      "  movie[\"tags\"] = movie[\"tags\"].apply(stem)\n"
     ]
    }
   ],
   "source": [
    "movie[\"tags\"] = movie[\"tags\"].apply(stem)"
   ]
  },
  {
   "cell_type": "code",
   "execution_count": 69,
   "id": "61acfcf2",
   "metadata": {},
   "outputs": [
    {
     "data": {
      "text/plain": [
       "array([0, 0, 0, ..., 0, 0, 0])"
      ]
     },
     "execution_count": 69,
     "metadata": {},
     "output_type": "execute_result"
    }
   ],
   "source": [
    "vectors[0]"
   ]
  },
  {
   "cell_type": "code",
   "execution_count": 70,
   "id": "1018bb2b",
   "metadata": {},
   "outputs": [],
   "source": [
    "from sklearn.metrics.pairwise import cosine_similarity"
   ]
  },
  {
   "cell_type": "code",
   "execution_count": 71,
   "id": "6c910c07",
   "metadata": {},
   "outputs": [],
   "source": [
    "similarity = cosine_similarity(vectors)"
   ]
  },
  {
   "cell_type": "code",
   "execution_count": 72,
   "id": "43afb4e2",
   "metadata": {},
   "outputs": [
    {
     "data": {
      "text/plain": [
       "[(539, 0.26940795304016235),\n",
       " (1194, 0.2545875386086578),\n",
       " (507, 0.25182770057259657),\n",
       " (1216, 0.24459979523511427),\n",
       " (260, 0.2434322477800738)]"
      ]
     },
     "execution_count": 72,
     "metadata": {},
     "output_type": "execute_result"
    }
   ],
   "source": [
    "sorted(list(enumerate(similarity[0])),reverse = True,key=lambda x:x[1])[1:6]"
   ]
  },
  {
   "cell_type": "code",
   "execution_count": 73,
   "id": "7636e09b",
   "metadata": {},
   "outputs": [],
   "source": [
    "# similarity[34]"
   ]
  },
  {
   "cell_type": "code",
   "execution_count": 74,
   "id": "66fe63f0",
   "metadata": {},
   "outputs": [],
   "source": [
    "def recommend(movies):\n",
    "    movie_index = movie[movie[\"title\"] == movie].index[0]\n",
    "    distances = similarity[movie_index]\n",
    "    movie_list = sorted(list(enumerate(distances)),reverse=True,key=lambda x:x[1])[1:6]\n",
    "    \n",
    "    for i in movie_list:\n",
    "        #print(i[0])\n",
    "        print(movie.iloc[i[0]].title)"
   ]
  },
  {
   "cell_type": "code",
   "execution_count": 77,
   "id": "ef0f2921",
   "metadata": {},
   "outputs": [],
   "source": [
    "# user_input = input(\"Enter the Movie name: \")\n",
    "# recommend (\"user_input\")"
   ]
  },
  {
   "cell_type": "markdown",
   "id": "0b91c757",
   "metadata": {},
   "source": [
    "## end of the algorithm"
   ]
  },
  {
   "cell_type": "code",
   "execution_count": null,
   "id": "d18ca6c2",
   "metadata": {},
   "outputs": [],
   "source": []
  }
 ],
 "metadata": {
  "kernelspec": {
   "display_name": "Python 3 (ipykernel)",
   "language": "python",
   "name": "python3"
  },
  "language_info": {
   "codemirror_mode": {
    "name": "ipython",
    "version": 3
   },
   "file_extension": ".py",
   "mimetype": "text/x-python",
   "name": "python",
   "nbconvert_exporter": "python",
   "pygments_lexer": "ipython3",
   "version": "3.10.10"
  }
 },
 "nbformat": 4,
 "nbformat_minor": 5
}
